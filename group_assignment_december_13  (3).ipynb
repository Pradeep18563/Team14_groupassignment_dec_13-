{
 "cells": [
  {
   "cell_type": "markdown",
   "id": "bf39cb63",
   "metadata": {},
   "source": [
    "# Q&A Activity on Testing of Hypothesis\n",
    "1. Carry out descriptive analytics on the dataset.\n",
    "2. Check whether female and male students scored the same marks.\n",
    "3. Whether test preparation helps the students\n"
   ]
  },
  {
   "cell_type": "code",
   "execution_count": 39,
   "id": "80eaa8af",
   "metadata": {},
   "outputs": [],
   "source": [
    "import pandas as pd\n",
    "import numpy as np\n",
    "import matplotlib.pyplot as plt\n",
    "import seaborn as sns\n",
    "import scipy.stats as stats"
   ]
  },
  {
   "cell_type": "code",
   "execution_count": 41,
   "id": "cf3f286e",
   "metadata": {},
   "outputs": [],
   "source": [
    "data=pd.read_csv(r\"C:\\Users\\HP\\OneDrive\\Desktop\\Week_8_Q&A_dataset - Sheet1.csv\")"
   ]
  },
  {
   "cell_type": "code",
   "execution_count": 40,
   "id": "7457b854",
   "metadata": {},
   "outputs": [
    {
     "data": {
      "text/html": [
       "<div>\n",
       "<style scoped>\n",
       "    .dataframe tbody tr th:only-of-type {\n",
       "        vertical-align: middle;\n",
       "    }\n",
       "\n",
       "    .dataframe tbody tr th {\n",
       "        vertical-align: top;\n",
       "    }\n",
       "\n",
       "    .dataframe thead th {\n",
       "        text-align: right;\n",
       "    }\n",
       "</style>\n",
       "<table border=\"1\" class=\"dataframe\">\n",
       "  <thead>\n",
       "    <tr style=\"text-align: right;\">\n",
       "      <th></th>\n",
       "      <th>Test preparation</th>\n",
       "      <th>Total Marks</th>\n",
       "    </tr>\n",
       "  </thead>\n",
       "  <tbody>\n",
       "    <tr>\n",
       "      <th>0</th>\n",
       "      <td>completed</td>\n",
       "      <td>44.571429</td>\n",
       "    </tr>\n",
       "    <tr>\n",
       "      <th>1</th>\n",
       "      <td>none</td>\n",
       "      <td>28.238095</td>\n",
       "    </tr>\n",
       "  </tbody>\n",
       "</table>\n",
       "</div>"
      ],
      "text/plain": [
       "  Test preparation  Total Marks\n",
       "0        completed    44.571429\n",
       "1             none    28.238095"
      ]
     },
     "execution_count": 40,
     "metadata": {},
     "output_type": "execute_result"
    }
   ],
   "source": [
    "data.head()"
   ]
  },
  {
   "cell_type": "code",
   "execution_count": 4,
   "id": "30e3c212",
   "metadata": {},
   "outputs": [
    {
     "data": {
      "text/plain": [
       "Gender              object\n",
       "Test preparation    object\n",
       "Total Marks          int64\n",
       "dtype: object"
      ]
     },
     "execution_count": 4,
     "metadata": {},
     "output_type": "execute_result"
    }
   ],
   "source": [
    "data.dtypes"
   ]
  },
  {
   "cell_type": "code",
   "execution_count": 5,
   "id": "395596cc",
   "metadata": {},
   "outputs": [
    {
     "data": {
      "text/plain": [
       "(28, 3)"
      ]
     },
     "execution_count": 5,
     "metadata": {},
     "output_type": "execute_result"
    }
   ],
   "source": [
    "data.shape"
   ]
  },
  {
   "cell_type": "code",
   "execution_count": 6,
   "id": "031c4853",
   "metadata": {},
   "outputs": [
    {
     "data": {
      "text/plain": [
       "Gender              0\n",
       "Test preparation    0\n",
       "Total Marks         0\n",
       "dtype: int64"
      ]
     },
     "execution_count": 6,
     "metadata": {},
     "output_type": "execute_result"
    }
   ],
   "source": [
    "data.isna().sum()"
   ]
  },
  {
   "cell_type": "markdown",
   "id": "88c4c817",
   "metadata": {},
   "source": [
    "# Descriptive analytics on the dataset\n"
   ]
  },
  {
   "cell_type": "code",
   "execution_count": 7,
   "id": "1a908261",
   "metadata": {},
   "outputs": [
    {
     "data": {
      "text/html": [
       "<div>\n",
       "<style scoped>\n",
       "    .dataframe tbody tr th:only-of-type {\n",
       "        vertical-align: middle;\n",
       "    }\n",
       "\n",
       "    .dataframe tbody tr th {\n",
       "        vertical-align: top;\n",
       "    }\n",
       "\n",
       "    .dataframe thead th {\n",
       "        text-align: right;\n",
       "    }\n",
       "</style>\n",
       "<table border=\"1\" class=\"dataframe\">\n",
       "  <thead>\n",
       "    <tr style=\"text-align: right;\">\n",
       "      <th></th>\n",
       "      <th>Total Marks</th>\n",
       "    </tr>\n",
       "  </thead>\n",
       "  <tbody>\n",
       "    <tr>\n",
       "      <th>count</th>\n",
       "      <td>28.000000</td>\n",
       "    </tr>\n",
       "    <tr>\n",
       "      <th>mean</th>\n",
       "      <td>32.321429</td>\n",
       "    </tr>\n",
       "    <tr>\n",
       "      <th>std</th>\n",
       "      <td>12.454520</td>\n",
       "    </tr>\n",
       "    <tr>\n",
       "      <th>min</th>\n",
       "      <td>12.000000</td>\n",
       "    </tr>\n",
       "    <tr>\n",
       "      <th>25%</th>\n",
       "      <td>22.500000</td>\n",
       "    </tr>\n",
       "    <tr>\n",
       "      <th>50%</th>\n",
       "      <td>33.000000</td>\n",
       "    </tr>\n",
       "    <tr>\n",
       "      <th>75%</th>\n",
       "      <td>43.250000</td>\n",
       "    </tr>\n",
       "    <tr>\n",
       "      <th>max</th>\n",
       "      <td>50.000000</td>\n",
       "    </tr>\n",
       "  </tbody>\n",
       "</table>\n",
       "</div>"
      ],
      "text/plain": [
       "       Total Marks\n",
       "count    28.000000\n",
       "mean     32.321429\n",
       "std      12.454520\n",
       "min      12.000000\n",
       "25%      22.500000\n",
       "50%      33.000000\n",
       "75%      43.250000\n",
       "max      50.000000"
      ]
     },
     "execution_count": 7,
     "metadata": {},
     "output_type": "execute_result"
    }
   ],
   "source": [
    "data.describe()"
   ]
  },
  {
   "cell_type": "markdown",
   "id": "78626ef9",
   "metadata": {},
   "source": [
    "Inference: Total number of students participated in the test is 28\n",
    "Mean of the score is 32.321429 with a standard deviation of 12.454520\n",
    "    "
   ]
  },
  {
   "cell_type": "markdown",
   "id": "0c2b843b",
   "metadata": {},
   "source": [
    "# Check whether female and male students scored the same marks."
   ]
  },
  {
   "cell_type": "code",
   "execution_count": 8,
   "id": "ec010cdf",
   "metadata": {},
   "outputs": [],
   "source": [
    "#Null Hypothesis:Average marks scored by  male and female students are same.\n",
    "#Alternative Hypothesis:Average marks scored by  male and female students are not same."
   ]
  },
  {
   "cell_type": "code",
   "execution_count": 9,
   "id": "b3deded0",
   "metadata": {},
   "outputs": [
    {
     "data": {
      "text/html": [
       "<div>\n",
       "<style scoped>\n",
       "    .dataframe tbody tr th:only-of-type {\n",
       "        vertical-align: middle;\n",
       "    }\n",
       "\n",
       "    .dataframe tbody tr th {\n",
       "        vertical-align: top;\n",
       "    }\n",
       "\n",
       "    .dataframe thead th {\n",
       "        text-align: right;\n",
       "    }\n",
       "</style>\n",
       "<table border=\"1\" class=\"dataframe\">\n",
       "  <thead>\n",
       "    <tr style=\"text-align: right;\">\n",
       "      <th></th>\n",
       "      <th>Gender</th>\n",
       "      <th>Total Marks</th>\n",
       "    </tr>\n",
       "  </thead>\n",
       "  <tbody>\n",
       "    <tr>\n",
       "      <th>0</th>\n",
       "      <td>female</td>\n",
       "      <td>33.750000</td>\n",
       "    </tr>\n",
       "    <tr>\n",
       "      <th>1</th>\n",
       "      <td>male</td>\n",
       "      <td>30.416667</td>\n",
       "    </tr>\n",
       "  </tbody>\n",
       "</table>\n",
       "</div>"
      ],
      "text/plain": [
       "   Gender  Total Marks\n",
       "0  female    33.750000\n",
       "1    male    30.416667"
      ]
     },
     "execution_count": 9,
     "metadata": {},
     "output_type": "execute_result"
    }
   ],
   "source": [
    "data1=data.groupby('Gender')['Total Marks'].mean().to_frame().reset_index()\n",
    "data1\n"
   ]
  },
  {
   "cell_type": "code",
   "execution_count": 10,
   "id": "da968298",
   "metadata": {},
   "outputs": [],
   "source": [
    "male_marks = data[data[\"Gender\"]==\"male\"][\"Total Marks\"]\n",
    "female_marks = data[data[\"Gender\"]==\"female\"][\"Total Marks\"]\n",
    "\n"
   ]
  },
  {
   "cell_type": "code",
   "execution_count": 11,
   "id": "f95f87ae",
   "metadata": {},
   "outputs": [
    {
     "data": {
      "text/plain": [
       "Ttest_indResult(statistic=-0.6940885268848668, pvalue=0.4937822317960763)"
      ]
     },
     "execution_count": 11,
     "metadata": {},
     "output_type": "execute_result"
    }
   ],
   "source": [
    "stats.ttest_ind(a=male_marks, b=female_marks, equal_var=True)"
   ]
  },
  {
   "cell_type": "code",
   "execution_count": 12,
   "id": "8b2532b8",
   "metadata": {},
   "outputs": [
    {
     "name": "stdout",
     "output_type": "stream",
     "text": [
      "p-value 0.4937822317960763\n",
      "we accept null hypothesis\n"
     ]
    }
   ],
   "source": [
    "from scipy.stats import ttest_ind\n",
    "import numpy as np\n",
    "ttest,pval = ttest_ind(female_marks,male_marks)\n",
    "print(\"p-value\",pval)\n",
    "if pval <0.05:\n",
    "  print(\"we reject null hypothesis\")\n",
    "else:\n",
    "  print(\"we accept null hypothesis\")"
   ]
  },
  {
   "cell_type": "code",
   "execution_count": 13,
   "id": "3c9d4da6",
   "metadata": {},
   "outputs": [
    {
     "data": {
      "image/png": "[encoded data removed]",
      "text/plain": [
       "<Figure size 432x288 with 1 Axes>"
      ]
     },
     "metadata": {
      "needs_background": "light"
     },
     "output_type": "display_data"
    }
   ],
   "source": [
    "plt.barh(data['Gender'],data['Total Marks'],color=['Blue','Green'])\n",
    "plt.title('Gender vs Mean of Marks')\n",
    "plt.xlabel('Mean')\n",
    "plt.ylabel('Gender')\n",
    "plt.show()"
   ]
  },
  {
   "cell_type": "code",
   "execution_count": 14,
   "id": "1fc54007",
   "metadata": {},
   "outputs": [],
   "source": [
    "#INFERENCE:1)pvalue is higher than 0.05,so null hypothesis that mean of male and female are equal,is acceptedl. 2)It indicates that marks secured by male and female are almost equal."
   ]
  },
  {
   "cell_type": "markdown",
   "id": "ab1f4987",
   "metadata": {},
   "source": [
    "# Whether test preparation helps the students"
   ]
  },
  {
   "cell_type": "code",
   "execution_count": 15,
   "id": "a9a12fe7",
   "metadata": {},
   "outputs": [],
   "source": [
    "#Define the Null Hypothesis (H0) and Alternate Hypothesis (H1)"
   ]
  },
  {
   "cell_type": "code",
   "execution_count": 16,
   "id": "06c60617",
   "metadata": {},
   "outputs": [],
   "source": [
    "#Null Hypothesis: Test preparation helps the students\n",
    "#Alternate Hypothesis: Test preparation does not help the students"
   ]
  },
  {
   "cell_type": "code",
   "execution_count": 20,
   "id": "5691f6ab",
   "metadata": {},
   "outputs": [],
   "source": [
    "#Two sampled T Test: to determine whether associated population means are different"
   ]
  },
  {
   "cell_type": "code",
   "execution_count": null,
   "id": "f4117f92",
   "metadata": {},
   "outputs": [],
   "source": []
  },
  {
   "cell_type": "code",
   "execution_count": null,
   "id": "734475f8",
   "metadata": {},
   "outputs": [],
   "source": [
    "import scipy.stats as stats\n",
    "\n",
    "#perform two sample t-test with equal variances\n",
    "stats.ttest_ind(a=completed, b=none, equal_var=True)\n",
    "\n"
   ]
  },
  {
   "cell_type": "code",
   "execution_count": 44,
   "id": "aa0201e4",
   "metadata": {},
   "outputs": [],
   "source": [
    "test_completed = data[data[\"Test preparation\"]==\"completed\"][\"Total Marks\"]"
   ]
  },
  {
   "cell_type": "code",
   "execution_count": 45,
   "id": "b50357eb",
   "metadata": {},
   "outputs": [],
   "source": [
    "test_none = data[data[\"Test preparation\"]==\"none\"][\"Total Marks\"]"
   ]
  },
  {
   "cell_type": "code",
   "execution_count": 47,
   "id": "e0d9e5ce",
   "metadata": {},
   "outputs": [
    {
     "name": "stdout",
     "output_type": "stream",
     "text": [
      "t Statistic:  3.6143637527769217\n",
      "P Value:  0.0006335646228660053\n"
     ]
    }
   ],
   "source": [
    "tscore, pval = stats.ttest_ind(test_completed, test_none, equal_var=True, alternative='greater')\n",
    "\n",
    "print(\"t Statistic: \", tscore)\n",
    "\n",
    "print(\"P Value: \", pval)"
   ]
  },
  {
   "cell_type": "code",
   "execution_count": null,
   "id": "431f4ccd",
   "metadata": {},
   "outputs": [],
   "source": [
    "#conclusion: Sice p value is lesser than alpha value,Null hypothesis that the test preparation helps the students is accepted."
   ]
  }
 ],
 "metadata": {
  "kernelspec": {
   "display_name": "Python 3",
   "language": "python",
   "name": "python3"
  },
  "language_info": {
   "codemirror_mode": {
    "name": "ipython",
    "version": 3
   },
   "file_extension": ".py",
   "mimetype": "text/x-python",
   "name": "python",
   "nbconvert_exporter": "python",
   "pygments_lexer": "ipython3",
   "version": "3.8.8"
  }
 },
 "nbformat": 4,
 "nbformat_minor": 5
}
